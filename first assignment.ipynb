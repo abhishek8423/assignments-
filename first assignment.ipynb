{
 "cells": [
  {
   "cell_type": "markdown",
   "id": "66b002b4-f357-45ff-930e-8feb957d53e4",
   "metadata": {},
   "source": [
    "# ASSIGNMENT FIRST"
   ]
  },
  {
   "cell_type": "markdown",
   "id": "f28e5d38-65ac-4b4c-8649-29ddfa1fdeed",
   "metadata": {},
   "source": [
    "### 1.Explain the key features of python that make it a popular choice of programming.\r\n"
   ]
  },
  {
   "cell_type": "markdown",
   "id": "ed24ec31-2e62-4ccc-a683-87b38dfab53d",
   "metadata": {},
   "source": [
    "There are various types of key features of python programming are as follow:-\n",
    "- Simplicity - Python syntax is very clear ,easily understandable , readable\n",
    ",accessible for beginner programmer.\n",
    "- Versatility - It is very versatile to use , it should be used in my fields like\n",
    "machine learning , internet of things etc.\n",
    "- Rich and standard library - Python comes with a comprehensive standard\n",
    "library that provides modules and packages for various tasks, such as file I/O,\n",
    "networking, data manipulation, and more.\n",
    "- Cross platform compatibility - Python is platform-independent, meaning that\n",
    "code written in Python can run on various operating systems such as\n",
    "Windows, macOS, and Linux without modification."
   ]
  },
  {
   "cell_type": "markdown",
   "id": "0766a1c8-ae48-4bfd-97f4-36a902ede450",
   "metadata": {},
   "source": [
    "### 2.Describe the role of predefined keywords in python and provide examples\r\n",
    "### and how they are used in the program."
   ]
  },
  {
   "cell_type": "markdown",
   "id": "383c2965-ac7f-46c0-bd82-8155f92d8609",
   "metadata": {},
   "source": [
    "Predefined keywords in Python play a crucial role in defining the syntax and\n",
    "structure of the language. These keywords are reserved and have specific meanings\n",
    "assigned to them, and they cannot be used as identifiers in your program. some of\n",
    "the common predefined keywords in Python and how they are used:\n",
    "\n",
    "1. if`, elif, else - These keywords are used for conditional statements. They control\n",
    "the flow of execution based on the evaluation of conditions."
   ]
  },
  {
   "cell_type": "code",
   "execution_count": 1,
   "id": "db20862e-aebc-45ff-86f3-1c70b0da242d",
   "metadata": {},
   "outputs": [
    {
     "name": "stdout",
     "output_type": "stream",
     "text": [
      "Positive\n"
     ]
    }
   ],
   "source": [
    "x=10\n",
    "if x > 0:\n",
    "    print(\"Positive\") \n",
    "elif x < 0:\n",
    "    print(\"Negative\")\n",
    "else:\n",
    "    print(\"Zero\")"
   ]
  },
  {
   "cell_type": "markdown",
   "id": "64a37eee-542c-4964-b462-50d5f58448c6",
   "metadata": {},
   "source": [
    "2. for, while - These keywords are used for looping constructs. They allow you to\n",
    "iterate over sequences or execute code repeatedly until a condition is met.\n"
   ]
  },
  {
   "cell_type": "code",
   "execution_count": 4,
   "id": "cc6a4651-67f2-4561-afe8-e37afa385f12",
   "metadata": {},
   "outputs": [
    {
     "name": "stdout",
     "output_type": "stream",
     "text": [
      "10\n",
      "9\n",
      "8\n",
      "7\n",
      "6\n",
      "5\n",
      "4\n",
      "3\n",
      "2\n",
      "1\n",
      "0\n",
      "Blast off!\n"
     ]
    }
   ],
   "source": [
    "countdown = 10\n",
    "while countdown >= 0:\n",
    "    print(countdown)\n",
    "    countdown -= 1\n",
    "print(\"Blast off!\")\n"
   ]
  },
  {
   "cell_type": "markdown",
   "id": "544d53fa-6921-49ec-8e9a-d4217297ec1d",
   "metadata": {},
   "source": [
    "### 3.Compare and contrast mutable and immutable objects in python with\n",
    "### examples."
   ]
  },
  {
   "cell_type": "markdown",
   "id": "bd194cef-80c1-4436-8690-9d4bb9bcaf71",
   "metadata": {},
   "source": [
    "1. Mutable objects - These are the objects which have different types of datatypes\r\n",
    "objects stored in a single variable, object of the variable should be changeable\r\n",
    "We can replace the object with the another object , so thats why we call it mutable\r\n",
    "object\r\n",
    "Ex: Like we have a list of objects"
   ]
  },
  {
   "cell_type": "code",
   "execution_count": 6,
   "id": "d872c31a-2bc4-49e8-9091-8a29e9a15a20",
   "metadata": {},
   "outputs": [],
   "source": [
    "my_list=[1,2,3,2,True,3+4j,'abhishek']"
   ]
  },
  {
   "cell_type": "code",
   "execution_count": 8,
   "id": "080ee72e-d5b9-4f52-acc8-c4773a35d856",
   "metadata": {},
   "outputs": [
    {
     "name": "stdout",
     "output_type": "stream",
     "text": [
      "[1, 'thakur', 3, 2, True, (3+4j), 'abhishek']\n"
     ]
    }
   ],
   "source": [
    "my_list[1]='thakur'\n",
    "print(my_list)"
   ]
  },
  {
   "cell_type": "markdown",
   "id": "ecedf0dc-02e2-4ee1-be03-06e28f689264",
   "metadata": {},
   "source": [
    "2. Immutable objects - Immutable objects, on the other hand, are objects whose state\n",
    "cannot be changed after they are created. Once an immutable object is created, its\n",
    "value cannot be modified. Examples of immutable objects in Python include integers,\n",
    "strings, tuples, and frozensets.\n",
    "Ex:like we have string"
   ]
  },
  {
   "cell_type": "code",
   "execution_count": 9,
   "id": "697fcbf6-6258-48b3-aace-07f712175ca5",
   "metadata": {},
   "outputs": [],
   "source": [
    "my_str=[\"abhishek\"]"
   ]
  },
  {
   "cell_type": "code",
   "execution_count": 11,
   "id": "149c0281-4f1e-418b-bf05-0ca5c04e1d46",
   "metadata": {},
   "outputs": [
    {
     "ename": "IndexError",
     "evalue": "list assignment index out of range",
     "output_type": "error",
     "traceback": [
      "\u001b[1;31m---------------------------------------------------------------------------\u001b[0m",
      "\u001b[1;31mIndexError\u001b[0m                                Traceback (most recent call last)",
      "Cell \u001b[1;32mIn[11], line 1\u001b[0m\n\u001b[1;32m----> 1\u001b[0m my_str[\u001b[38;5;241m3\u001b[39m]\u001b[38;5;241m=\u001b[39m\u001b[38;5;124m\"\u001b[39m\u001b[38;5;124mu\u001b[39m\u001b[38;5;124m\"\u001b[39m\n",
      "\u001b[1;31mIndexError\u001b[0m: list assignment index out of range"
     ]
    }
   ],
   "source": [
    "my_str[3]=\"u\""
   ]
  },
  {
   "cell_type": "markdown",
   "id": "c97dd5e5-bbee-4c49-9b5c-a84b074b1aa3",
   "metadata": {},
   "source": [
    "So in output it do not show any change in original object,In this example, trying to\n",
    "modify the first character of the string my_str to ’u’ will result in an error because\n",
    "strings are immutable in Python\n"
   ]
  },
  {
   "cell_type": "markdown",
   "id": "2dd5ad5c-e23e-4d1e-b230-498c3a7b9588",
   "metadata": {},
   "source": [
    "### 4.Discuss different types of operators in python and provide examples of how\n",
    "### they are used."
   ]
  },
  {
   "cell_type": "markdown",
   "id": "1d1abca6-6264-4531-9fe8-26a6a5200539",
   "metadata": {},
   "source": [
    "Operators in Python are symbols or special keywords that perform operations on\n",
    "variables and values. Here are some common types of operators and examples of\n",
    "how they are used"
   ]
  },
  {
   "cell_type": "markdown",
   "id": "5ba4002f-54e4-455f-a0f7-718d455de4ae",
   "metadata": {},
   "source": [
    "1. **Arithmetic Operators:**\r\n",
    "Arithmetic operators perform mathematical operations like addition, subtraction,\r\n",
    "multiplication, division, etc"
   ]
  },
  {
   "cell_type": "code",
   "execution_count": 12,
   "id": "cea3aec3-e2c9-4bd1-9b44-cb63da0a350f",
   "metadata": {},
   "outputs": [
    {
     "name": "stdout",
     "output_type": "stream",
     "text": [
      "8\n"
     ]
    }
   ],
   "source": [
    "# Addition\n",
    "result = 5 + 3\n",
    "print(result)"
   ]
  },
  {
   "cell_type": "code",
   "execution_count": 13,
   "id": "9a815206-3229-47b7-b9ec-b6c64a3836f3",
   "metadata": {},
   "outputs": [
    {
     "name": "stdout",
     "output_type": "stream",
     "text": [
      "6\n"
     ]
    }
   ],
   "source": [
    "# Subtraction\n",
    "result = 10 - 4\n",
    "print(result)"
   ]
  },
  {
   "cell_type": "markdown",
   "id": "a2ff700a-824e-4682-893e-fb982b9cbfda",
   "metadata": {},
   "source": [
    "2.**Comparison Operators:**\n",
    "Comparison operators compare two values and return `True` or `False` based on the\n",
    "comparison"
   ]
  },
  {
   "cell_type": "code",
   "execution_count": 17,
   "id": "557f84a2-b286-4956-9a4d-3536641732cf",
   "metadata": {},
   "outputs": [
    {
     "name": "stdout",
     "output_type": "stream",
     "text": [
      "True\n"
     ]
    }
   ],
   "source": [
    "# Equal to\n",
    "print(5 == 5) "
   ]
  },
  {
   "cell_type": "code",
   "execution_count": 18,
   "id": "0a7d48db-cfde-4643-ab34-239d9d549d07",
   "metadata": {},
   "outputs": [
    {
     "name": "stdout",
     "output_type": "stream",
     "text": [
      "True\n"
     ]
    }
   ],
   "source": [
    "# Not equal to\n",
    "print(5 != 3) "
   ]
  },
  {
   "cell_type": "code",
   "execution_count": 19,
   "id": "7ae60c8c-e9b9-42ae-ad80-6d4023d987e1",
   "metadata": {},
   "outputs": [
    {
     "name": "stdout",
     "output_type": "stream",
     "text": [
      "True\n"
     ]
    }
   ],
   "source": [
    "# Greater than\n",
    "print(8 > 3)"
   ]
  },
  {
   "cell_type": "markdown",
   "id": "63f0cf0b-7e68-4676-bb00-6c92796d44b2",
   "metadata": {},
   "source": [
    "3.**Logical Operators:**\r\n",
    "Logical operators perform logical operations on boolean values (`True` or `False`)."
   ]
  },
  {
   "cell_type": "code",
   "execution_count": 2,
   "id": "63c350c7-aa9a-4ed0-821b-12c098a1c9b7",
   "metadata": {},
   "outputs": [
    {
     "name": "stdout",
     "output_type": "stream",
     "text": [
      "False\n"
     ]
    }
   ],
   "source": [
    "x = True\n",
    "y = False\n",
    "# AND\n",
    "print(x and y)"
   ]
  },
  {
   "cell_type": "code",
   "execution_count": 3,
   "id": "f8026f57-7959-4ace-ae5c-6834e25cc477",
   "metadata": {},
   "outputs": [
    {
     "name": "stdout",
     "output_type": "stream",
     "text": [
      "True\n"
     ]
    }
   ],
   "source": [
    "# OR\n",
    "print(x or y) "
   ]
  },
  {
   "cell_type": "markdown",
   "id": "d6df2146-5d15-4b7c-885a-8c8911bab495",
   "metadata": {},
   "source": [
    "4.***Assignment Operators:*** Assignment operators are used to assign values to variables."
   ]
  },
  {
   "cell_type": "code",
   "execution_count": 4,
   "id": "6e9e76e1-fc92-466c-ad39-788c29f8fcfc",
   "metadata": {},
   "outputs": [
    {
     "name": "stdout",
     "output_type": "stream",
     "text": [
      "13\n"
     ]
    }
   ],
   "source": [
    "x = 5 # Assigns the value 5 to variable x\n",
    "y = 10\n",
    "y += 3 # Equivalent to y = y + 3\n",
    "print(y)"
   ]
  },
  {
   "cell_type": "markdown",
   "id": "24ce659e-de27-499e-ae40-fc1390ee95ea",
   "metadata": {},
   "source": [
    "### 5.Explain the concept of type casting in python with example.\r"
   ]
  },
  {
   "cell_type": "markdown",
   "id": "930e60b5-78fb-479b-a0f8-294e69195311",
   "metadata": {},
   "source": [
    "Type casting in Python refers to the process of converting a value from one data type\r\n",
    "to another. Sometimes, we may need to convert a value to a different type to perform\r\n",
    "certain operations or to ensure compatibility with other parts of your code. Here is a\r\n",
    "simple explanation with an examp\n",
    "We have a variable `x` with the value `\"5\"`, which is a string:le:"
   ]
  },
  {
   "cell_type": "code",
   "execution_count": 5,
   "id": "2e78d15e-221d-47cc-b583-d199d046c123",
   "metadata": {},
   "outputs": [],
   "source": [
    "x = \"5\""
   ]
  },
  {
   "cell_type": "markdown",
   "id": "8316fc40-3a32-48ed-8b5e-99e93753f74d",
   "metadata": {},
   "source": [
    "Let's say we want to perform addition with this value as an integer. In Python, we\n",
    "need to convert this string to an integer using type casting. We can achieve this\n",
    "using the `int()` function:"
   ]
  },
  {
   "cell_type": "code",
   "execution_count": 7,
   "id": "645c01c2-f878-4925-bd41-7227736ea2df",
   "metadata": {},
   "outputs": [],
   "source": [
    "y = int(x)"
   ]
  },
  {
   "cell_type": "code",
   "execution_count": 8,
   "id": "05ec5518-9f67-4ed3-a861-ca293a1b4df4",
   "metadata": {},
   "outputs": [
    {
     "name": "stdout",
     "output_type": "stream",
     "text": [
      "8\n"
     ]
    }
   ],
   "source": [
    "z = y + 3\n",
    "print(z)"
   ]
  },
  {
   "cell_type": "markdown",
   "id": "f80caea4-07af-43e9-9835-5d417e0b87a2",
   "metadata": {},
   "source": [
    "Similarly, we can use other type casting functions like `float()`, `str()`, `bool()`, etc., to\n",
    "convert values to different data types as needed in our program."
   ]
  },
  {
   "cell_type": "markdown",
   "id": "6a672420-93df-4cdb-9c1a-b408d45c4cde",
   "metadata": {},
   "source": [
    "### 6.How do Conditional Statements work in Python ? Illustrate with Example."
   ]
  },
  {
   "cell_type": "markdown",
   "id": "d71550c1-780d-4f72-8a37-052bd28dbdb9",
   "metadata": {},
   "source": [
    "Conditional statements in Python allow you to make decisions in your code based on\r\n",
    "certain conditions. It's like giving our program the ability to choose what to do\r\n",
    "depending on different situations.\r\n",
    "Let's say we're planning to go outside. we might make decisions based on the\r\n",
    "weather:\r\n",
    "1. If it's sunny, you'll go for a walk.\r\n",
    "2. Else If it's cloudy, you'll take an umbrella.\r\n",
    "3. Else, if it's raining, you'll stay .indoors"
   ]
  },
  {
   "cell_type": "code",
   "execution_count": 10,
   "id": "000f303a-3da1-42bb-8e6a-e1227ad1d29e",
   "metadata": {},
   "outputs": [
    {
     "name": "stdout",
     "output_type": "stream",
     "text": [
      "Go for a walk\n"
     ]
    }
   ],
   "source": [
    "weather = \"sunny\"\n",
    "if weather == \"sunny\":\n",
    "    print(\"Go for a walk\")\n",
    "elif weather == \"cloudy\":\n",
    "    print(\"Take an umbrella\")\n",
    "else:\n",
    "    print(\"Stay indoors\")"
   ]
  },
  {
   "cell_type": "markdown",
   "id": "79eb8430-854c-47dd-804d-65a1a883e1c9",
   "metadata": {},
   "source": [
    "Here's what happens:\r\n",
    "- Python checks if the weather is \"sunny\". If it is, it prints \"Go for a walk\".\r\n",
    "- If it's not sunny, it moves to the `elif` statement and checks if the weather is\r\n",
    "\"cloudy\". If it is, it prints \"Take an umbrella\".\r\n",
    "- If none of the conditions are met, it moves to the `else` block and prints \"Stay\r\n",
    "indoors\"."
   ]
  },
  {
   "cell_type": "markdown",
   "id": "24f9af37-da20-4e32-b8df-cf81a1e81631",
   "metadata": {},
   "source": [
    "### 7.Describe the different types of loops in Python and their use cases with example.e"
   ]
  },
  {
   "cell_type": "markdown",
   "id": "2af0f8dd-89c1-4694-8a01-9033d250be08",
   "metadata": {},
   "source": [
    "Loops in Python are used to repeat a block of code multiple times. There are mainly\n",
    "two types of loops in Python: `for` loop and `while` loop.Examples and their use\n",
    "cases:"
   ]
  },
  {
   "cell_type": "markdown",
   "id": "42e5dadb-f893-49fa-8abf-64c2a3a056c5",
   "metadata": {},
   "source": [
    "1. For Loop:\n",
    "A `for` loop is used when you know the number of times you want to repeat a block\n",
    "of code. It iterates over a sequence (like a list or a range of numbers)."
   ]
  },
  {
   "cell_type": "markdown",
   "id": "adaaf68c-dbab-455a-8a1d-d0577177433c",
   "metadata": {},
   "source": [
    "Ex:\n",
    "Let's say we want to print numbers from 1 to 5."
   ]
  },
  {
   "cell_type": "code",
   "execution_count": 12,
   "id": "a2d3a62a-ac7c-4f9f-8635-ba2f4efb2865",
   "metadata": {},
   "outputs": [
    {
     "name": "stdout",
     "output_type": "stream",
     "text": [
      "1\n",
      "2\n",
      "3\n",
      "4\n",
      "5\n"
     ]
    }
   ],
   "source": [
    "for i in range(1, 6):\n",
    "    print(i)"
   ]
  },
  {
   "cell_type": "markdown",
   "id": "a77714b4-a6d9-49b2-8a43-76dce4d9b764",
   "metadata": {},
   "source": [
    "Use cases:\n",
    "- When we know the number of iterations beforehand (like iterating over items in a\n",
    "list).\n",
    "- When we want to execute a block of code a specific number of times."
   ]
  },
  {
   "cell_type": "markdown",
   "id": "d8d147c6-6c34-4cf1-84d8-bd01af1cdca2",
   "metadata": {},
   "source": [
    "2. While Loop:\n",
    "A `while` loop is used when you want to repeat a block of code as long as a\n",
    "condition is true. It keeps iterating until the condition becomes false.\n",
    "Ex:\n",
    "Let's say we want to print numbers from 1 to 5 using a `while` loop."
   ]
  },
  {
   "cell_type": "code",
   "execution_count": 1,
   "id": "0a56a68c-a06b-4540-8113-050c0419a299",
   "metadata": {},
   "outputs": [
    {
     "name": "stdout",
     "output_type": "stream",
     "text": [
      "1\n",
      "2\n",
      "3\n",
      "4\n",
      "5\n"
     ]
    }
   ],
   "source": [
    "count = 1\n",
    "while count <= 5:\n",
    "    print(count)\n",
    "    count += 1\n"
   ]
  },
  {
   "cell_type": "markdown",
   "id": "a33753ae-fde4-4048-8f4d-7057fd921160",
   "metadata": {},
   "source": [
    "Use cases:\n",
    "- When we don't know the number of iterations beforehand and want to repeat a\n",
    "block of code until a certain condition is met.\n",
    "- When we want to continuously execute a block of code until a specific condition\n",
    "becomes false (like taking user input until they enter a certain value"
   ]
  },
  {
   "cell_type": "code",
   "execution_count": null,
   "id": "36bdef3f-64ea-4592-a390-d507052198bb",
   "metadata": {},
   "outputs": [],
   "source": []
  }
 ],
 "metadata": {
  "kernelspec": {
   "display_name": "Python 3 (ipykernel)",
   "language": "python",
   "name": "python3"
  },
  "language_info": {
   "codemirror_mode": {
    "name": "ipython",
    "version": 3
   },
   "file_extension": ".py",
   "mimetype": "text/x-python",
   "name": "python",
   "nbconvert_exporter": "python",
   "pygments_lexer": "ipython3",
   "version": "3.11.7"
  }
 },
 "nbformat": 4,
 "nbformat_minor": 5
}
